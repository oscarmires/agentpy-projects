{
 "cells": [
  {
   "cell_type": "code",
   "execution_count": 3,
   "metadata": {
    "collapsed": true
   },
   "outputs": [],
   "source": [
    "# Model design\n",
    "import agentpy as ap\n",
    "\n",
    "class ForestModel(ap.Model):\n",
    "\n",
    "    def setup(self):\n",
    "\n",
    "        # Create agents (trees)\n",
    "        n_trees = int(self.p['Tree density'] * (self.p.size**2))\n",
    "        trees = self.agents = ap.AgentList(self, n_trees)\n",
    "\n",
    "        # Create grid (forest)\n",
    "        self.forest = ap.Grid(self, [self.p.size]*2, track_empty=True)\n",
    "        self.forest.add_agents(trees, random=True, empty=True)\n",
    "\n",
    "        # Initiate a dynamic variable for all trees\n",
    "        # Condition 0: Alive, 1: Burning, 2: Burned\n",
    "        self.agents.condition = 0\n",
    "\n",
    "        # Start a fire from the left side of the grid\n",
    "        unfortunate_trees = self.forest.agents[0:self.p.size, 0:2]\n",
    "        unfortunate_trees.condition = 1\n",
    "\n",
    "    def step(self):\n",
    "\n",
    "        # Select burning trees\n",
    "        burning_trees = self.agents.select(self.agents.condition == 1)\n",
    "\n",
    "        # Spread fire\n",
    "        for tree in burning_trees:\n",
    "            for neighbor in self.forest.neighbors(tree):\n",
    "                if neighbor.condition == 0:\n",
    "                    neighbor.condition = 1 # Neighbor starts burning\n",
    "            tree.condition = 2 # Tree burns out\n",
    "\n",
    "        # Stop simulation if no fire is left\n",
    "        if len(burning_trees) == 0:\n",
    "            self.stop()\n",
    "\n",
    "    def end(self):\n",
    "\n",
    "        # Document a measure at the end of the simulation\n",
    "        burned_trees = len(self.agents.select(self.agents.condition == 2))\n",
    "        self.report('Percentage of burned trees',\n",
    "                    burned_trees / len(self.agents))\n",
    "\n",
    "parameters = {\n",
    "    'Tree density': 0.6, # Percentage of grid covered by trees\n",
    "    'size': 50, # Height and length of the grid\n",
    "    'steps': 100,\n",
    "}\n"
   ]
  }
 ],
 "metadata": {
  "kernelspec": {
   "display_name": "Python 3 (ipykernel)",
   "language": "python",
   "name": "python3"
  },
  "language_info": {
   "codemirror_mode": {
    "name": "ipython",
    "version": 3
   },
   "file_extension": ".py",
   "mimetype": "text/x-python",
   "name": "python",
   "nbconvert_exporter": "python",
   "pygments_lexer": "ipython3",
   "version": "3.8.9"
  }
 },
 "nbformat": 4,
 "nbformat_minor": 1
}
