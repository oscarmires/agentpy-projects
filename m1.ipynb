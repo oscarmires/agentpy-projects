{
 "cells": [
  {
   "cell_type": "markdown",
   "source": [
    "# Actividad M1\n",
    "_Oscar Miranda Escalante_\n",
    "_A01630791_\n",
    "\n",
    "### Código de la solución\n",
    "Este código ejecuta la simulación y hace un seguimiento del número de 'robots'\n",
    "que limpian, el porcentaje de celdas que se han limpiado, tiempo y número de\n",
    "movimientos realizados en total por todos los agentes.\n",
    "\n",
    "Repositorio en Github: https://github.com/oscarmires/agentpy-projects/blob/master/m1.ipynb"
   ],
   "metadata": {
    "collapsed": false
   }
  },
  {
   "cell_type": "code",
   "execution_count": 3,
   "metadata": {
    "pycharm": {
     "name": "#%%\n"
    }
   },
   "outputs": [
    {
     "name": "stdout",
     "output_type": "stream",
     "text": [
      "Scheduled runs: 9\n",
      "Completed: 9, estimated time remaining: 0:00:00\n",
      "Experiment finished\n",
      "Run time: 0:00:00.361655\n",
      "           cleaner_agents percentage_cleaned     time  movements\n",
      "sample_id                                                       \n",
      "0                       1              35.0%    50/50         43\n",
      "1                       5              70.0%    50/50        220\n",
      "2                      20              90.0%    50/50        714\n",
      "3                       1              25.0%  100/100         95\n",
      "4                       5              95.0%  100/100        455\n",
      "5                      20             100.0%   73/100        979\n",
      "6                       1              95.0%  500/500        481\n",
      "7                       5             100.0%  194/500        898\n",
      "8                      20             100.0%   88/500       1108\n"
     ]
    }
   ],
   "source": [
    "import agentpy as ap\n",
    "import seaborn as sns\n",
    "\n",
    "\n",
    "class Room(ap.Model):\n",
    "\n",
    "    def setup(self):\n",
    "        # Initialize counters\n",
    "        self.step_count = 0\n",
    "        self.total_movements = 0\n",
    "\n",
    "        # Initialize agents\n",
    "        #   Cleaners\n",
    "        n_cleaners = self.p.cleaners\n",
    "        self.cleaners = ap.AgentList(self, n_cleaners)\n",
    "        #   Tiles\n",
    "        n_tiles = self.n_tiles = self.p.m * self.p.n\n",
    "        self.tiles = ap.AgentList(self, n_tiles)\n",
    "        #   Dirty tiles\n",
    "        n_dirty = self.n_initially_dirty = int(n_tiles * self.p.dirt)\n",
    "\n",
    "        # Set conditions (0: clean, 1: cleaning, 2: dirty)\n",
    "        self.tiles.condition = 0\n",
    "        self.tiles.isTile = True\n",
    "        for i in range(n_dirty):\n",
    "            self.tiles[i].condition = 2\n",
    "        self.cleaners.target = None\n",
    "        self.cleaners.isTile = False\n",
    "\n",
    "        # Create grid\n",
    "        self.grid = ap.Grid(self, (self.p.m, self.p.n), track_empty=True)\n",
    "        self.grid.add_agents(self.tiles, random=True, empty=True)\n",
    "        self.grid.add_agents(self.cleaners, [(1, 1)] * n_cleaners)\n",
    "\n",
    "    def step(self):\n",
    "        for cleaner in self.cleaners:\n",
    "            if cleaner.target:\n",
    "                target = cleaner.target\n",
    "                if target.condition == 1:\n",
    "                    target.condition = 0\n",
    "                    self.grid.move_to(cleaner, self.grid.positions[target])\n",
    "                    self.total_movements += 1\n",
    "                    cleaner.target = None\n",
    "            else:\n",
    "                neighbors = self.grid.neighbors(cleaner)\n",
    "                n_neighbor = len(neighbors)\n",
    "                rand_pos = self.random.randint(0, n_neighbor - 1)\n",
    "                neighbor = neighbors.to_list()[rand_pos]\n",
    "\n",
    "                if neighbor.isTile:\n",
    "                    if neighbor.condition == 2:\n",
    "                        cleaner.target = neighbor\n",
    "                        neighbor.condition = 1\n",
    "                    elif neighbor.condition == 0:\n",
    "                        self.grid.move_to(cleaner, self.grid.positions[neighbor])\n",
    "                        self.total_movements += 1\n",
    "\n",
    "        self.step_count += 1\n",
    "\n",
    "        clean = self.tiles.select(self.tiles.condition == 0)\n",
    "        allClean = len(clean) == self.n_tiles\n",
    "\n",
    "        if self.step_count == self.p.steps or allClean:\n",
    "            self.stop()\n",
    "\n",
    "    def end(self):\n",
    "        dirty_tiles = len(self.tiles.select(self.tiles.condition == 2))\n",
    "        self.report('cleaner_agents', len(self.cleaners))\n",
    "        self.report('percentage_cleaned', f'{(self.n_initially_dirty - dirty_tiles) / self.n_initially_dirty * 100}%')\n",
    "        self.report('time', f'{self.step_count}/{self.p.steps}')\n",
    "        self.report('movements', self.total_movements)\n",
    "\n",
    "\n",
    "parameters = {\n",
    "    'dirt': 0.2,  # probability of dirty cells\n",
    "    'm': 10,  # grid's l\n",
    "    'n': 10,  # grid's h\n",
    "    'steps': 500,  # time\n",
    "    'cleaners': 100\n",
    "}\n",
    "\n",
    "# Configure experiment\n",
    "parameters_multi = dict(parameters)\n",
    "parameters_multi.update({\n",
    "    'steps': ap.Values(50, 100, 500),  # time\n",
    "    'cleaners': ap.Values(1, 5, 20)\n",
    "})\n",
    "sample = ap.Sample(parameters_multi)\n",
    "\n",
    "exp = ap.Experiment(Room, sample, iterations=1)\n",
    "results = exp.run()\n",
    "\n",
    "# print results\n",
    "results\n",
    "columns = ['cleaner_agents',\n",
    "           'percentage_cleaned',\n",
    "           'time',\n",
    "           'movements']\n",
    "print(results['reporters'][columns])"
   ]
  },
  {
   "cell_type": "markdown",
   "source": [
    "## Análisis\n",
    "Resumen mejor resultado en el experimento (20 agentes limpiadores)\n",
    "\n",
    "| Porcentaje de celdas sucias que se limpiaron | Tiempo necesario | Cantidad de movimientos |\n",
    "|---|---|---|\n",
    "| 100% | 88 | 1108 |\n",
    "\n",
    "En los resultados que imprime el código, se observa que conforme hay más agentes limpiadores,\n",
    "aumenta el porcentaje de celdas limpias y la cantidad de movimientos."
   ],
   "metadata": {
    "collapsed": false
   }
  }
 ],
 "metadata": {
  "kernelspec": {
   "display_name": "Python 3 (ipykernel)",
   "language": "python",
   "name": "python3"
  },
  "language_info": {
   "codemirror_mode": {
    "name": "ipython",
    "version": 3
   },
   "file_extension": ".py",
   "mimetype": "text/x-python",
   "name": "python",
   "nbconvert_exporter": "python",
   "pygments_lexer": "ipython3",
   "version": "3.8.9"
  }
 },
 "nbformat": 4,
 "nbformat_minor": 1
}